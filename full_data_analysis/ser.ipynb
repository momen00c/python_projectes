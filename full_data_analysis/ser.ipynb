{
 "cells": [
  {
   "cell_type": "code",
   "execution_count": 200,
   "id": "7839971a-3528-48a6-8ee8-a90d3aa95414",
   "metadata": {},
   "outputs": [
    {
     "data": {
      "text/plain": [
       "(1000, 12)"
      ]
     },
     "execution_count": 200,
     "metadata": {},
     "output_type": "execute_result"
    }
   ],
   "source": [
    "import pandas as pd\n",
    "import  matplotlib.pyplot as plt\n",
    "import datetime \n",
    "import numpy as np\n",
    "import seaborn as sns\n",
    "from datetime import datetime as dt\n",
    "\n",
    "data = pd.read_csv('sales_data_dirty.csv')\n",
    "data = data.drop_duplicates()\n",
    "data.head()\n",
    "data.isna().sum()\n",
    "data.shape\n"
   ]
  },
  {
   "cell_type": "code",
   "execution_count": 201,
   "id": "8f3c2305-7ad2-4269-ab96-6c7986edc10e",
   "metadata": {},
   "outputs": [
    {
     "name": "stdout",
     "output_type": "stream",
     "text": [
      "<class 'pandas.core.frame.DataFrame'>\n",
      "Index: 1000 entries, 0 to 999\n",
      "Data columns (total 12 columns):\n",
      " #   Column            Non-Null Count  Dtype  \n",
      "---  ------            --------------  -----  \n",
      " 0   Order ID          1000 non-null   object \n",
      " 1   Order Date        1000 non-null   object \n",
      " 2   Customer ID       895 non-null    object \n",
      " 3   Gender            854 non-null    object \n",
      " 4   Country           1000 non-null   object \n",
      " 5   Product Category  861 non-null    object \n",
      " 6   Quantity          1000 non-null   int64  \n",
      " 7   Price             1000 non-null   float64\n",
      " 8   Discount          1000 non-null   float64\n",
      " 9   Payment Method    1000 non-null   object \n",
      " 10  Delivery Time     1000 non-null   float64\n",
      " 11  Returned          1000 non-null   object \n",
      "dtypes: float64(3), int64(1), object(8)\n",
      "memory usage: 101.6+ KB\n"
     ]
    },
    {
     "data": {
      "text/html": [
       "<div>\n",
       "<style scoped>\n",
       "    .dataframe tbody tr th:only-of-type {\n",
       "        vertical-align: middle;\n",
       "    }\n",
       "\n",
       "    .dataframe tbody tr th {\n",
       "        vertical-align: top;\n",
       "    }\n",
       "\n",
       "    .dataframe thead th {\n",
       "        text-align: right;\n",
       "    }\n",
       "</style>\n",
       "<table border=\"1\" class=\"dataframe\">\n",
       "  <thead>\n",
       "    <tr style=\"text-align: right;\">\n",
       "      <th></th>\n",
       "      <th>Order ID</th>\n",
       "      <th>Order Date</th>\n",
       "      <th>Customer ID</th>\n",
       "      <th>Gender</th>\n",
       "      <th>Country</th>\n",
       "      <th>Product Category</th>\n",
       "      <th>Quantity</th>\n",
       "      <th>Price</th>\n",
       "      <th>Discount</th>\n",
       "      <th>Payment Method</th>\n",
       "      <th>Delivery Time</th>\n",
       "      <th>Returned</th>\n",
       "    </tr>\n",
       "  </thead>\n",
       "  <tbody>\n",
       "    <tr>\n",
       "      <th>0</th>\n",
       "      <td>ORD1000</td>\n",
       "      <td>2022/02/08</td>\n",
       "      <td>CUST213</td>\n",
       "      <td>Female</td>\n",
       "      <td>France</td>\n",
       "      <td>Books</td>\n",
       "      <td>4</td>\n",
       "      <td>464.22</td>\n",
       "      <td>0.19</td>\n",
       "      <td>PayPal</td>\n",
       "      <td>12.0</td>\n",
       "      <td>Y</td>\n",
       "    </tr>\n",
       "    <tr>\n",
       "      <th>1</th>\n",
       "      <td>ORD1001</td>\n",
       "      <td>2023/02/03</td>\n",
       "      <td>CUST119</td>\n",
       "      <td>male</td>\n",
       "      <td>India</td>\n",
       "      <td>Home &amp; Kitchen</td>\n",
       "      <td>8</td>\n",
       "      <td>35.12</td>\n",
       "      <td>0.01</td>\n",
       "      <td>creditcard</td>\n",
       "      <td>7.0</td>\n",
       "      <td>Yes</td>\n",
       "    </tr>\n",
       "    <tr>\n",
       "      <th>2</th>\n",
       "      <td>ORD1002</td>\n",
       "      <td>2023/07/04</td>\n",
       "      <td>CUST142</td>\n",
       "      <td>FEMALE</td>\n",
       "      <td>Uknown</td>\n",
       "      <td>Electronics</td>\n",
       "      <td>4</td>\n",
       "      <td>365.50</td>\n",
       "      <td>0.28</td>\n",
       "      <td>cash on delivery</td>\n",
       "      <td>8.0</td>\n",
       "      <td>Unknown</td>\n",
       "    </tr>\n",
       "    <tr>\n",
       "      <th>3</th>\n",
       "      <td>ORD1003</td>\n",
       "      <td>2023/02/23</td>\n",
       "      <td>NaN</td>\n",
       "      <td>Female</td>\n",
       "      <td>USA</td>\n",
       "      <td>Books</td>\n",
       "      <td>10</td>\n",
       "      <td>174.73</td>\n",
       "      <td>0.24</td>\n",
       "      <td>Credit Card</td>\n",
       "      <td>12.0</td>\n",
       "      <td>Yes</td>\n",
       "    </tr>\n",
       "    <tr>\n",
       "      <th>4</th>\n",
       "      <td>ORD1004</td>\n",
       "      <td>2022/04/24</td>\n",
       "      <td>CUST16</td>\n",
       "      <td>NaN</td>\n",
       "      <td>India</td>\n",
       "      <td>Sports</td>\n",
       "      <td>4</td>\n",
       "      <td>30.66</td>\n",
       "      <td>0.28</td>\n",
       "      <td>Cash on Delivery</td>\n",
       "      <td>15.0</td>\n",
       "      <td>N</td>\n",
       "    </tr>\n",
       "  </tbody>\n",
       "</table>\n",
       "</div>"
      ],
      "text/plain": [
       "  Order ID  Order Date Customer ID  Gender Country Product Category  Quantity  \\\n",
       "0  ORD1000  2022/02/08     CUST213  Female  France            Books         4   \n",
       "1  ORD1001  2023/02/03     CUST119    male   India   Home & Kitchen         8   \n",
       "2  ORD1002  2023/07/04     CUST142  FEMALE  Uknown      Electronics         4   \n",
       "3  ORD1003  2023/02/23         NaN  Female     USA            Books        10   \n",
       "4  ORD1004  2022/04/24      CUST16     NaN   India           Sports         4   \n",
       "\n",
       "    Price  Discount    Payment Method  Delivery Time Returned  \n",
       "0  464.22      0.19            PayPal           12.0        Y  \n",
       "1   35.12      0.01        creditcard            7.0      Yes  \n",
       "2  365.50      0.28  cash on delivery            8.0  Unknown  \n",
       "3  174.73      0.24       Credit Card           12.0      Yes  \n",
       "4   30.66      0.28  Cash on Delivery           15.0        N  "
      ]
     },
     "execution_count": 201,
     "metadata": {},
     "output_type": "execute_result"
    }
   ],
   "source": [
    "# fill na\n",
    "data.fillna({\n",
    "             'Country':'Uknown',\n",
    "             'Payment Method':'Uknown',\n",
    "             'Returned':'Unknown',\n",
    "             'Discount': data['Discount'].mean(),\n",
    "             'Delivery Time': data['Delivery Time'].mean()\n",
    "            }, inplace=True)\n",
    "#pd.to_datetime(df['Order Date'],errors='coerce',format='%d')\n",
    "data.info() # from here we now the dype is good\n",
    "data.head()"
   ]
  },
  {
   "cell_type": "code",
   "execution_count": 202,
   "id": "8b82748d-a0fb-4ca3-841b-328500d5a230",
   "metadata": {},
   "outputs": [
    {
     "data": {
      "text/html": [
       "<div>\n",
       "<style scoped>\n",
       "    .dataframe tbody tr th:only-of-type {\n",
       "        vertical-align: middle;\n",
       "    }\n",
       "\n",
       "    .dataframe tbody tr th {\n",
       "        vertical-align: top;\n",
       "    }\n",
       "\n",
       "    .dataframe thead th {\n",
       "        text-align: right;\n",
       "    }\n",
       "</style>\n",
       "<table border=\"1\" class=\"dataframe\">\n",
       "  <thead>\n",
       "    <tr style=\"text-align: right;\">\n",
       "      <th></th>\n",
       "      <th>Order ID</th>\n",
       "      <th>Order Date</th>\n",
       "      <th>Customer ID</th>\n",
       "      <th>Gender</th>\n",
       "      <th>Country</th>\n",
       "      <th>Product Category</th>\n",
       "      <th>Quantity</th>\n",
       "      <th>Price</th>\n",
       "      <th>Discount</th>\n",
       "      <th>Payment Method</th>\n",
       "      <th>Delivery Time</th>\n",
       "      <th>Returned</th>\n",
       "    </tr>\n",
       "  </thead>\n",
       "  <tbody>\n",
       "    <tr>\n",
       "      <th>995</th>\n",
       "      <td>ORD1995</td>\n",
       "      <td>2022/06/12</td>\n",
       "      <td>CUST25</td>\n",
       "      <td>Male</td>\n",
       "      <td>Germany</td>\n",
       "      <td>Electronics</td>\n",
       "      <td>8</td>\n",
       "      <td>427.32</td>\n",
       "      <td>0.23</td>\n",
       "      <td>Credit Card</td>\n",
       "      <td>2.0</td>\n",
       "      <td>Yes</td>\n",
       "    </tr>\n",
       "    <tr>\n",
       "      <th>996</th>\n",
       "      <td>ORD1996</td>\n",
       "      <td>2023/11/17</td>\n",
       "      <td>CUST141</td>\n",
       "      <td>Male</td>\n",
       "      <td>Germany</td>\n",
       "      <td>Sports</td>\n",
       "      <td>1</td>\n",
       "      <td>240.62</td>\n",
       "      <td>0.22</td>\n",
       "      <td>Cash on Delivery</td>\n",
       "      <td>9.0</td>\n",
       "      <td>Yes</td>\n",
       "    </tr>\n",
       "    <tr>\n",
       "      <th>997</th>\n",
       "      <td>ORD1997</td>\n",
       "      <td>2022/10/16</td>\n",
       "      <td>CUST280</td>\n",
       "      <td>Male</td>\n",
       "      <td>Uknown</td>\n",
       "      <td>Clothing</td>\n",
       "      <td>6</td>\n",
       "      <td>143.39</td>\n",
       "      <td>0.16</td>\n",
       "      <td>Cash on Delivery</td>\n",
       "      <td>8.0</td>\n",
       "      <td>Yes</td>\n",
       "    </tr>\n",
       "    <tr>\n",
       "      <th>998</th>\n",
       "      <td>ORD1998</td>\n",
       "      <td>2023/11/16</td>\n",
       "      <td>CUST75</td>\n",
       "      <td>Male</td>\n",
       "      <td>Germany</td>\n",
       "      <td>Electronics</td>\n",
       "      <td>6</td>\n",
       "      <td>103.55</td>\n",
       "      <td>0.17</td>\n",
       "      <td>Unkown</td>\n",
       "      <td>1.0</td>\n",
       "      <td>No</td>\n",
       "    </tr>\n",
       "    <tr>\n",
       "      <th>999</th>\n",
       "      <td>ORD1999</td>\n",
       "      <td>2023/07/08</td>\n",
       "      <td>CUST252</td>\n",
       "      <td>Male</td>\n",
       "      <td>Germany</td>\n",
       "      <td>Electronics</td>\n",
       "      <td>4</td>\n",
       "      <td>148.86</td>\n",
       "      <td>0.17</td>\n",
       "      <td>Cash on Delivery</td>\n",
       "      <td>12.0</td>\n",
       "      <td>Yes</td>\n",
       "    </tr>\n",
       "  </tbody>\n",
       "</table>\n",
       "</div>"
      ],
      "text/plain": [
       "    Order ID  Order Date Customer ID Gender  Country Product Category  \\\n",
       "995  ORD1995  2022/06/12      CUST25   Male  Germany      Electronics   \n",
       "996  ORD1996  2023/11/17     CUST141   Male  Germany           Sports   \n",
       "997  ORD1997  2022/10/16     CUST280   Male   Uknown         Clothing   \n",
       "998  ORD1998  2023/11/16      CUST75   Male  Germany      Electronics   \n",
       "999  ORD1999  2023/07/08     CUST252   Male  Germany      Electronics   \n",
       "\n",
       "     Quantity   Price  Discount    Payment Method  Delivery Time Returned  \n",
       "995         8  427.32      0.23       Credit Card            2.0      Yes  \n",
       "996         1  240.62      0.22  Cash on Delivery            9.0      Yes  \n",
       "997         6  143.39      0.16  Cash on Delivery            8.0      Yes  \n",
       "998         6  103.55      0.17            Unkown            1.0       No  \n",
       "999         4  148.86      0.17  Cash on Delivery           12.0      Yes  "
      ]
     },
     "execution_count": 202,
     "metadata": {},
     "output_type": "execute_result"
    }
   ],
   "source": [
    "# edit text\n",
    "data['Gender']= data['Gender'].map(lambda x:'Male' if str(x).lower().startswith('m')\n",
    "                                   else \"Female\" if  str(x).lower().startswith('f')\n",
    "                                  else 'Unkown')\n",
    "data['Payment Method'].unique()\n",
    "data['Payment Method']= data['Payment Method'].map(lambda x:'Cash on Delivery' if x=='COD'\n",
    "                                                else \"Cash on Delivery\" if  str(x).lower().endswith('y')\n",
    "                                                else 'PayPal' if str(x).lower().endswith('l')\n",
    "                                                else 'Credit Card' if str(x).lower().endswith('d')\n",
    "                                                else 'Unkown')\n",
    "\n",
    "data['Returned']= data['Returned'].map(lambda x:'Yes' if str(x).lower().startswith('y')\n",
    "                                   else 'No' if  str(x).lower().startswith('n')\n",
    "                                   else 'Unkown')\n",
    "data.replace({'Product Category': {'Eletronics': 'Electronics'}}, inplace=True)\n",
    "\n",
    "# Clean outliar\n",
    "qes=(data['Price']).quantile([.25,.75])\n",
    "iqr = qes[.75] - qes[.25]\n",
    "outliear=data[(data['Price']<(qes[.25]-iqr)) | (data['Price']>(qes[.75]+iqr))]\n",
    "data.loc[outliear.index,'Price']=data['Price'].mean()\n",
    "\n",
    "qes=(data['Discount']).quantile([.25,.75])\n",
    "iqr = qes[.75] - qes[.25]\n",
    "dis_outliear=data[(data['Discount']<(qes[.25]-iqr)) | (data['Discount']>(qes[.75]+iqr))]\n",
    "data.loc[dis_outliear.index,'Discount']=data['Discount'].mean() # here mean 1.7 is not much than 1.7  for that i replce \n",
    "\n",
    "qes=(data['Delivery Time']).quantile([.25,.75])\n",
    "iqr = qes[.75] - qes[.25]\n",
    "del_outliear=data[(data['Delivery Time']<(qes[.25]-iqr)) | (data['Delivery Time']>(qes[.75]+iqr))] # it dont have outliar\n",
    "# edit format\n",
    "data[['Price','Discount','Delivery Time']] = data[['Price','Discount','Delivery Time']].round(2)\n",
    "data['Quantity']= data['Quantity'].abs()\n",
    "data.tail(5)\n"
   ]
  },
  {
   "cell_type": "code",
   "execution_count": 203,
   "id": "a35eec97-ef87-4297-a81c-bccd1dd0b7dc",
   "metadata": {},
   "outputs": [],
   "source": [
    "import re\n",
    "regex = re.compile(r'\\d{4}-\\d{1,2}-\\d{1,2}')\n",
    "dataes=data['Order Date'].tolist()\n",
    "dates = data['Order Date'].map(lambda x:regex.findall(x)[0].replace('-','/') if regex.findall(x) else None ).dropna()\n",
    "data.loc[dates.index,'Order Date'] = dates\n",
    "data['Order Date']=pd.to_datetime(data['Order Date'],errors='coerce')\n"
   ]
  },
  {
   "cell_type": "code",
   "execution_count": 204,
   "id": "83a2886c-8e0d-44e7-979c-c359d912374c",
   "metadata": {},
   "outputs": [
    {
     "name": "stdout",
     "output_type": "stream",
     "text": [
      "             Price     Discount  Delivery Time\n",
      "count  1000.000000  1000.000000    1000.000000\n",
      "mean    364.439030    15.310000       7.969420\n",
      "std     604.897475     8.330624       4.075015\n",
      "min       5.970000     0.000000       1.000000\n",
      "25%     134.022500     8.000000       5.000000\n",
      "50%     274.755000    16.000000       7.970000\n",
      "75%     392.142500    22.000000      11.000000\n",
      "max    3547.340000    30.000000      15.000000\n",
      "       Order ID Customer ID  Gender  Country Product Category  \\\n",
      "count      1000         895    1000     1000              861   \n",
      "unique     1000         283       3        6                5   \n",
      "top     ORD1999     CUST296  Female  Germany      Electronics   \n",
      "freq          1          10     446      189              294   \n",
      "\n",
      "          Payment Method Returned  \n",
      "count               1000     1000  \n",
      "unique                 4        3  \n",
      "top     Cash on Delivery       No  \n",
      "freq                 447      405  \n"
     ]
    }
   ],
   "source": [
    "#EDA\n",
    "data['Discount']=data['Discount']*100\n",
    "print(data.describe(include='float'))\n",
    "print(data.describe(include='object'))"
   ]
  },
  {
   "cell_type": "code",
   "execution_count": 205,
   "id": "dcd97d36-b446-41ca-94ec-29bca7bd5897",
   "metadata": {},
   "outputs": [
    {
     "name": "stdout",
     "output_type": "stream",
     "text": [
      "                Country\n",
      "Country Gender         \n",
      "France  Female       59\n",
      "        Male         67\n",
      "        Unkown       22\n",
      "Germany Female       86\n",
      "        Male         83\n",
      "        Unkown       20\n",
      "India   Female       81\n",
      "        Male         79\n",
      "        Unkown       26\n",
      "UK      Female       77\n",
      "        Male         62\n",
      "        Unkown       24\n",
      "USA     Female       73\n",
      "        Male         58\n",
      "        Unkown       27\n",
      "Uknown  Female       70\n",
      "        Male         59\n",
      "        Unkown       27\n",
      "Payment Method\n",
      "Cash on Delivery    447\n",
      "Credit Card         270\n",
      "Unkown              152\n",
      "PayPal              131\n",
      "Name: count, dtype: int64\n",
      "Gender  Product Category\n",
      "Unkown  Sports               4174.18\n",
      "        Books                5480.26\n",
      "        Clothing             9866.33\n",
      "        Home & Kitchen      10026.84\n",
      "        Electronics         14430.97\n",
      "Male    Sports              14625.88\n",
      "Female  Clothing            14872.12\n",
      "Male    Home & Kitchen      18331.44\n",
      "Female  Home & Kitchen      21224.65\n",
      "Male    Books               22708.70\n",
      "        Clothing            25546.48\n",
      "Female  Sports              28128.91\n",
      "        Books               29499.76\n",
      "Male    Electronics         40109.90\n",
      "Female  Electronics         60308.20\n",
      "Name: Price, dtype: float64\n",
      "Country\n",
      "France     8.274797\n",
      "Germany    7.870635\n",
      "India      7.872796\n",
      "UK         7.953926\n",
      "USA        8.232468\n",
      "Uknown     7.664359\n",
      "Name: Delivery Time, dtype: float64\n",
      "Product Category\n",
      "Sports             46928.97\n",
      "Home & Kitchen     49582.93\n",
      "Clothing           50284.93\n",
      "Books              57688.72\n",
      "Electronics       114849.07\n",
      "Name: Price, dtype: float64\n",
      "[[ 1.         -0.00499668]\n",
      " [-0.00499668  1.        ]]\n"
     ]
    }
   ],
   "source": [
    "coun_gen = data.groupby(['Country','Gender'])[['Country']].count()\n",
    "pay=data['Payment Method'].value_counts()\n",
    "pri_cat = data.groupby('Product Category')['Price'].sum().sort_values()\n",
    "gen_pri_cat = data.groupby(['Gender','Product Category'])['Price'].sum().sort_values()\n",
    "coun_deli = data.groupby('Country')['Delivery Time'].mean()\n",
    "count_country=data.groupby('Country').count()\n",
    "pay_price=data.groupby('Payment Method')['Price'].sum()\n",
    "corr_price_discount=np.corrcoef(data['Price'],data['Discount']) # from here we know no realtion\n",
    "\n",
    "print(coun_gen)\n",
    "print(pay)\n",
    "print(gen_pri_cat)\n",
    "print(coun_deli)\n",
    "print(pri_cat)\n",
    "print(corr_price_discount)"
   ]
  },
  {
   "cell_type": "code",
   "execution_count": 206,
   "id": "373c87bb-b5b6-4eb9-9dcb-f15c1f1d9194",
   "metadata": {},
   "outputs": [
    {
     "data": {
      "image/png": "[encoded data removed]",
      "text/plain": [
       "<Figure size 1000x800 with 1 Axes>"
      ]
     },
     "metadata": {},
     "output_type": "display_data"
    },
    {
     "data": {
      "image/png": "[encoded data removed]",
      "text/plain": [
       "<Figure size 640x480 with 1 Axes>"
      ]
     },
     "metadata": {},
     "output_type": "display_data"
    },
    {
     "data": {
      "image/png": "[encoded data removed]",
      "text/plain": [
       "<Figure size 640x480 with 1 Axes>"
      ]
     },
     "metadata": {},
     "output_type": "display_data"
    },
    {
     "data": {
      "text/plain": [
       "<Axes: >"
      ]
     },
     "execution_count": 206,
     "metadata": {},
     "output_type": "execute_result"
    },
    {
     "data": {
      "image/png": "[encoded data removed]",
      "text/plain": [
       "<Figure size 640x480 with 1 Axes>"
      ]
     },
     "metadata": {},
     "output_type": "display_data"
    }
   ],
   "source": [
    "#visulization\n",
    "plt.figure(figsize=(10,8))\n",
    "sns.histplot(data=data,y='Country',hue='Gender',palette=['black', 'red', 'green'])\n",
    "plt.show()\n",
    "sns.barplot(data=data,x='Payment Method',y='Price',hue='Payment Method')\n",
    "coun_gen.plot.barh()\n",
    "gen_pri_cat.plot.barh()\n",
    "plt.show()\n",
    "x=pri_cat.index.tolist()\n",
    "y=pri_cat.values.tolist()\n",
    "sns.barplot(x=x,y=y)"
   ]
  },
  {
   "cell_type": "code",
   "execution_count": 207,
   "id": "6bf7d2ae-9515-418a-b282-ca478d1b7057",
   "metadata": {},
   "outputs": [
    {
     "name": "stdout",
     "output_type": "stream",
     "text": [
      "t_vlaue = 0.8248766658541541 , t_critical = 1.9627522328330007\n",
      " p_value = 0.2048362475053731 \n"
     ]
    },
    {
     "data": {
      "text/plain": [
       "TtestResult(statistic=np.float64(0.8221215288548439), pvalue=np.float64(0.20561887125728112), df=np.float64(852.0))"
      ]
     },
     "execution_count": 207,
     "metadata": {},
     "output_type": "execute_result"
    }
   ],
   "source": [
    "# inferentak stats\n",
    "from scipy.stats import ttest_ind,t\n",
    "# t test indpendent to compare bettwen gender in buy\n",
    "# first we made it step by step\n",
    "#h0 = mean-->female = mean-->male\n",
    "#h1 = mean -->female > mean-->male\n",
    "male=data['Price'].loc[data['Gender']=='Male']\n",
    "female=data['Price'].loc[data['Gender']=='Female']\n",
    "m_male ,s_male ,n_male = male.mean(),male.std(ddof=1),len(male)\n",
    "m_female ,s_female ,n_female = female.mean(),female.std(ddof=1),len(female)\n",
    "mean_dif = m_female - m_male\n",
    "df = n_male + n_female - 2\n",
    "SE = np.sqrt((s_male**2) / n_male + (s_female**2) / n_female)\n",
    "t_critical = t.ppf(.5+.95/2,df)\n",
    "t_value = mean_dif/SE\n",
    "p_value = 1-(t.cdf(t_value,df))\n",
    "print(f't_vlaue = {t_value} , t_critical = {t_critical}\\n p_value = {p_value} ')\n",
    "\n",
    "# by function one side\n",
    "ttest_ind(female,male,alternative='greater')\n",
    "# finally  te result tee us is no differnce bettwen them that mean we don't have evidece to reject h0"
   ]
  },
  {
   "cell_type": "code",
   "execution_count": 208,
   "id": "138207a2-08fc-4f9d-9092-e1519dfece24",
   "metadata": {},
   "outputs": [
    {
     "name": "stdout",
     "output_type": "stream",
     "text": [
      "t_vlaue = 0.8248766658541541 , t_critical = 1.9627522328330007\n",
      " p_value = 1.5903275049892538 \n"
     ]
    },
    {
     "data": {
      "text/plain": [
       "TtestResult(statistic=np.float64(0.8221215288548439), pvalue=np.float64(0.41123774251456224), df=np.float64(852.0))"
      ]
     },
     "execution_count": 208,
     "metadata": {},
     "output_type": "execute_result"
    }
   ],
   "source": [
    "# two side\n",
    "t_critical = t.ppf(.5+.95/2,df)\n",
    "t_value = mean_dif/SE\n",
    "p_value = 2*(t.cdf(t_value,df))\n",
    "print(f't_vlaue = {t_value} , t_critical = {t_critical}\\n p_value = {p_value} ')\n",
    "\n",
    "# by function\n",
    "ttest_ind(female,male)"
   ]
  },
  {
   "cell_type": "code",
   "execution_count": 209,
   "id": "f92add5b-6dc2-407b-90df-067c679c67a7",
   "metadata": {},
   "outputs": [
    {
     "name": "stdout",
     "output_type": "stream",
     "text": [
      "Gender\n",
      "Female    446\n",
      "Male      408\n",
      "Name: count, dtype: int64\n",
      "Product Category\n",
      "Electronics       247\n",
      "Books             134\n",
      "Clothing          127\n",
      "Sports            117\n",
      "Home & Kitchen    106\n",
      "Name: count, dtype: int64\n"
     ]
    },
    {
     "data": {
      "text/plain": [
       "<Axes: xlabel='Gender', ylabel='count'>"
      ]
     },
     "execution_count": 209,
     "metadata": {},
     "output_type": "execute_result"
    },
    {
     "data": {
      "image/png": "[encoded data removed]",
      "text/plain": [
       "<Figure size 640x480 with 1 Axes>"
      ]
     },
     "metadata": {},
     "output_type": "display_data"
    }
   ],
   "source": [
    "# chi test test to Gender with product category\n",
    "from scipy.stats import chi2_contingency\n",
    "data2=data.loc[(data['Gender']=='Male') | (data['Gender']=='Female')]\n",
    "print(data2['Gender'].value_counts())\n",
    "print(data2['Product Category'].value_counts())\n",
    "sns.countplot(data=data2,x='Gender',hue='Product Category')\n"
   ]
  },
  {
   "cell_type": "code",
   "execution_count": 210,
   "id": "0cf5990e-c5f0-46d3-b567-c3d1739fb149",
   "metadata": {},
   "outputs": [
    {
     "data": {
      "text/plain": [
       "Chi2ContingencyResult(statistic=np.float64(1.6856307767478014), pvalue=np.float64(0.7933261276740331), dof=4, expected_freq=array([[ 69.29138167,  65.67168263, 127.72366621,  54.8125855 ,\n",
       "         60.50068399],\n",
       "       [ 64.70861833,  61.32831737, 119.27633379,  51.1874145 ,\n",
       "         56.49931601]]))"
      ]
     },
     "execution_count": 210,
     "metadata": {},
     "output_type": "execute_result"
    }
   ],
   "source": [
    "cont = pd.crosstab(data2['Gender'],data2['Product Category'])\n",
    "chi2_contingency(cont)"
   ]
  },
  {
   "cell_type": "code",
   "execution_count": 211,
   "id": "06dce95c-3517-4da1-a938-ce6c3dc76656",
   "metadata": {},
   "outputs": [
    {
     "name": "stdout",
     "output_type": "stream",
     "text": [
      "Product Category  Books  Clothing  Electronics  Home & Kitchen  Sports\n",
      "Gender                                                                \n",
      "Female               71        60          133              53      61\n",
      "Male                 63        67          114              53      56\n"
     ]
    }
   ],
   "source": [
    "print(cont)"
   ]
  },
  {
   "cell_type": "code",
   "execution_count": 212,
   "id": "ed27bd48-983d-420b-b369-88614e96428d",
   "metadata": {},
   "outputs": [
    {
     "data": {
      "text/plain": [
       "731"
      ]
     },
     "execution_count": 212,
     "metadata": {},
     "output_type": "execute_result"
    }
   ],
   "source": [
    "134+127+247+106+117"
   ]
  },
  {
   "cell_type": "code",
   "execution_count": 213,
   "id": "97ca2c36-9e8d-44ec-8c5c-7711dbd15e4f",
   "metadata": {},
   "outputs": [
    {
     "data": {
      "text/plain": [
       "69.29138166894664"
      ]
     },
     "execution_count": 213,
     "metadata": {},
     "output_type": "execute_result"
    }
   ],
   "source": [
    "((71+60+133+53+61)*(71+63))/731 # here we get first expected value it equal expc in chi test"
   ]
  },
  {
   "cell_type": "code",
   "execution_count": null,
   "id": "8fe99a7d-3f99-46b9-b8f8-8d1673cc3faa",
   "metadata": {},
   "outputs": [],
   "source": []
  },
  {
   "cell_type": "code",
   "execution_count": null,
   "id": "3babf45c-3cb3-4696-963f-05f44a132714",
   "metadata": {},
   "outputs": [],
   "source": []
  },
  {
   "cell_type": "code",
   "execution_count": null,
   "id": "0ffb0cd6-5803-4b99-b086-19ede148b8b7",
   "metadata": {},
   "outputs": [],
   "source": []
  },
  {
   "cell_type": "code",
   "execution_count": null,
   "id": "18e4b716-9063-49c2-880a-fe350e4b2bcb",
   "metadata": {},
   "outputs": [],
   "source": []
  },
  {
   "cell_type": "code",
   "execution_count": null,
   "id": "df4ffdba-d5eb-4d00-9a7b-0c2f760b221c",
   "metadata": {},
   "outputs": [],
   "source": []
  }
 ],
 "metadata": {
  "kernelspec": {
   "display_name": "Python 3 (ipykernel)",
   "language": "python",
   "name": "python3"
  },
  "language_info": {
   "codemirror_mode": {
    "name": "ipython",
    "version": 3
   },
   "file_extension": ".py",
   "mimetype": "text/x-python",
   "name": "python",
   "nbconvert_exporter": "python",
   "pygments_lexer": "ipython3",
   "version": "3.13.1"
  }
 },
 "nbformat": 4,
 "nbformat_minor": 5
}
